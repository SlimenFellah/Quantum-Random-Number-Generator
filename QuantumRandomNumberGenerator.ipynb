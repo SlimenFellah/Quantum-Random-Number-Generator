{
 "cells": [
  {
   "cell_type": "code",
   "execution_count": null,
   "metadata": {},
   "outputs": [],
   "source": [
    "from qiskit import QuantumCircuit, Aer, execute\n",
    "import matplotlib.pyplot as plt\n",
    "\n",
    "# Function to generate a single random bit using a quantum circuit\n",
    "def generate_random_bit():\n",
    "    qc = QuantumCircuit(1, 1)\n",
    "    qc.h(0)\n",
    "    qc.measure(0, 0)\n",
    "    qc.draw(output='mpl')\n",
    "    plt.show()\n",
    "    \n",
    "    simulator = Aer.get_backend('qasm_simulator')\n",
    "    result = execute(qc, backend=simulator, shots=1).result()\n",
    "    counts = result.get_counts(qc)\n",
    "    \n",
    "    return int(list(counts.keys())[0])\n",
    "\n",
    "# Function to generate multiple random bits\n",
    "def generate_random_bits(n):\n",
    "    random_bits = [generate_random_bit() for _ in range(n)]\n",
    "    return random_bits\n",
    "\n",
    "# Convert random bits to a decimal number\n",
    "def bits_to_decimal(bits):\n",
    "    binary_string = ''.join(map(str, bits))\n",
    "    return int(binary_string, 2)\n",
    "\n",
    "# Generate a random number of a specific bit length\n",
    "n_bits = 8  # For example, generate an 8-bit random number\n",
    "random_bits = generate_random_bits(n_bits)\n",
    "random_number = bits_to_decimal(random_bits)\n",
    "\n",
    "print(f'Random {n_bits}-bit number: {random_number}')\n"
   ]
  },
  {
   "cell_type": "markdown",
   "metadata": {},
   "source": [
    "## Visualizing Quantum Superposition"
   ]
  },
  {
   "cell_type": "code",
   "execution_count": null,
   "metadata": {},
   "outputs": [],
   "source": [
    "from qiskit.visualization import plot_bloch_multivector\n",
    "\n",
    "def visualize_superposition():\n",
    "    qc = QuantumCircuit(1)\n",
    "    qc.h(0)\n",
    "    simulator = Aer.get_backend('statevector_simulator')\n",
    "    result = execute(qc, backend=simulator).result()\n",
    "    statevector = result.get_statevector()\n",
    "    \n",
    "    plot_bloch_multivector(statevector)\n",
    "    plt.show()\n",
    "\n",
    "# Call the visualization function\n",
    "visualize_superposition()\n"
   ]
  }
 ],
 "metadata": {
  "kernelspec": {
   "display_name": "Python 3",
   "language": "python",
   "name": "python3"
  },
  "language_info": {
   "name": "python",
   "version": "3.12.1"
  }
 },
 "nbformat": 4,
 "nbformat_minor": 2
}
